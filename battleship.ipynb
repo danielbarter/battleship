{
 "cells": [
  {
   "cell_type": "code",
   "execution_count": 1,
   "metadata": {
    "collapsed": false
   },
   "outputs": [],
   "source": [
    "#(0,0) is the top left corner\n",
    "gridDimensionX = 10\n",
    "gridDimensionY = 10\n",
    "def validGridPoint(i,j):\n",
    "    return (0 <= i <= gridDimensionX) and (0 <= j <= gridDimensionY)"
   ]
  },
  {
   "cell_type": "code",
   "execution_count": 2,
   "metadata": {
    "collapsed": true
   },
   "outputs": [],
   "source": [
    "def blankGrid(DimensionX,DimensionY,x):\n",
    "    return {(i,j) : x for i in range(DimensionX) for j in range(DimensionY)}"
   ]
  },
  {
   "cell_type": "code",
   "execution_count": 3,
   "metadata": {
    "collapsed": false
   },
   "outputs": [],
   "source": [
    "def computeShipCoordinates(i,j,direction,length):\n",
    "    if direction == \"North\":\n",
    "        return [(i,j-c) for c in range(length)]\n",
    "    elif direction == \"East\":\n",
    "        return [(i+c,j) for c in range(length)]\n",
    "    elif direction == \"South\":\n",
    "        return [(i,j+c) for c in range(length)]\n",
    "    elif direction == \"West\":\n",
    "        return [(i-c,j) for c in range(length)]\n",
    "\n",
    "shipLengths = {\"Carrier\" : 5, \"Battleship\" : 4, \"Submarine\" : 3, \"Cruiser\" : 2, \"Patrol\" : 1}"
   ]
  },
  {
   "cell_type": "code",
   "execution_count": 4,
   "metadata": {
    "collapsed": false
   },
   "outputs": [],
   "source": [
    "class GameState:\n",
    "    \"\"\"\n",
    "    players: 0, 1\n",
    "    peg colors: \"R\",\"W\",\"E\"\n",
    "    errors: \"NoError\", \"NotValidGridPoint\", \"PegAlreadyPlaced\",\"ShipCollision\"\n",
    "    directions: \"North\",\"South\",\"East\",\"West\"\n",
    "    \n",
    "    \"\"\"\n",
    "    def __init__(self):\n",
    "        self.shotsFired = {0 : blankGrid(gridDimensionX,gridDimensionY,\"E\"),\n",
    "                           1 : blankGrid(gridDimensionX,gridDimensionY,\"E\")}\n",
    "        self.boats = {0 : [], 1 : []}\n",
    "        self.error = \"NoError\"\n",
    "        self.activePlayer = 0\n",
    "        \n",
    "    def otherPlayer(self):\n",
    "        if self.activePlayer == 0:\n",
    "            return 1\n",
    "        else:\n",
    "            return 0\n",
    "    \n",
    "    def changePlayer(self):\n",
    "        self.activePlayer = self.otherPlayer()\n",
    "        return self.activePlayer\n",
    "\n",
    "    \n",
    "    \n",
    "    def attack(self,i,j):\n",
    "        if not validGridPoint(i,j):\n",
    "            self.error = \"NotValidGridPoint\"\n",
    "            return self.error\n",
    "        elif self.shotsFired[self.activePlayer][(i,j)] != \"E\":\n",
    "            self.error = \"PegAlreadyPlaced\"\n",
    "            return self.error\n",
    "        elif (i,j) in self.boats[self.otherPlayer()]:\n",
    "            self.shotsFired[self.activePlayer][(i,j)] = \"R\"\n",
    "            self.error = \"NoError\"\n",
    "            return self.error\n",
    "        else:\n",
    "            self.shotsFired[self.activePlayer][(i,j)] = \"W\"\n",
    "            self.error = \"NoError\"\n",
    "            return self.error\n",
    "    \n",
    "    def addShip(self,i,j,direction,length):\n",
    "        ship = computeShipCoordinates(i,j,direction,length)\n",
    "        for point in ship:\n",
    "            if point in self.boats[self.activePlayer]:\n",
    "                self.error = \"ShipCollision\"\n",
    "                return self.error\n",
    "            elif not validGridPoint(point[0],point[1]):\n",
    "                self.error = \"NotValidGridPoint\"\n",
    "                return self.error\n",
    "        self.boats[self.activePlayer] = self.boats[self.activePlayer] + ship\n",
    "        self.error = \"NoError\"\n",
    "        return self.error\n",
    "    \n",
    "    def activePlayerWin(self):\n",
    "        for point in self.boats[self.activePlayer]:\n",
    "            if self.shotsFired[self.activePlayer][point] != \"R\":\n",
    "                return False\n",
    "        return True"
   ]
  },
  {
   "cell_type": "code",
   "execution_count": null,
   "metadata": {
    "collapsed": true
   },
   "outputs": [],
   "source": []
  }
 ],
 "metadata": {
  "kernelspec": {
   "display_name": "Python 3",
   "language": "python",
   "name": "python3"
  },
  "language_info": {
   "codemirror_mode": {
    "name": "ipython",
    "version": 3
   },
   "file_extension": ".py",
   "mimetype": "text/x-python",
   "name": "python",
   "nbconvert_exporter": "python",
   "pygments_lexer": "ipython3",
   "version": "3.5.2"
  }
 },
 "nbformat": 4,
 "nbformat_minor": 0
}
