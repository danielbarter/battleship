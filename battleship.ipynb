{
 "cells": [
  {
   "cell_type": "markdown",
   "metadata": {},
   "source": [
    "# Battleship API"
   ]
  },
  {
   "cell_type": "markdown",
   "metadata": {},
   "source": [
    "I don't know how to work with mutable state in Haskell without desecrating the heap, so I decided to solve the problem in Python. First a few points:\n",
    "\n",
    "- Below is the battleship state in a 4x4 grid using just the Submarine, Cruiser and Patrol. It is easy to make the code scale up by changing gridDimensionX, gridDimensionY and adding more boats to the dictionary shipLengths.\n",
    "- I have supplied the code in a Jupyter notebook instead of a runnable python script. Since I'm not exactly sure what is going to be built on top, I decided that constructing a simple object with the correct methods would be more useful than trying to package it up into a script. I could be wrong though.......\n",
    "\n",
    "The gamestate is stored as an object which records where each player has fired and where their boats are. There is also an error message which contains information about how an attack or boat placement went and an active player who is the current attacker / boat placer. \n",
    "\n",
    "I'm not sure what you were looking for exactly, but it was a fun little problem to solve, so thanks!"
   ]
  },
  {
   "cell_type": "code",
   "execution_count": 1,
   "metadata": {
    "collapsed": true
   },
   "outputs": [],
   "source": [
    "import random"
   ]
  },
  {
   "cell_type": "code",
   "execution_count": 2,
   "metadata": {
    "collapsed": false
   },
   "outputs": [],
   "source": [
    "#(0,0) is the top left corner. We index grip points like you would index a matrix.\n",
    "gridDimensionX = 4\n",
    "gridDimensionY = 4\n",
    "def validGridPoint(i,j):\n",
    "    \"\"\"\n",
    "    test if a grid point is valid\n",
    "    \"\"\"\n",
    "    return (0 <= i < gridDimensionX) and (0 <= j < gridDimensionY)"
   ]
  },
  {
   "cell_type": "code",
   "execution_count": 3,
   "metadata": {
    "collapsed": true
   },
   "outputs": [],
   "source": [
    "def blankGrid(DimensionX,DimensionY,x):\n",
    "    \"\"\"\n",
    "    produce an empty grid\n",
    "    \"\"\"\n",
    "    return {(i,j) : x for i in range(DimensionX) for j in range(DimensionY)}"
   ]
  },
  {
   "cell_type": "code",
   "execution_count": 4,
   "metadata": {
    "collapsed": false
   },
   "outputs": [],
   "source": [
    "def computeShipCoordinates(i,j,direction,length):\n",
    "    \"\"\"\n",
    "    we need to place ships on the board. \n",
    "    (i.j) is the coordinate of the base of the ship.\n",
    "    direction is \"North\", \"South\", \"East\" or \"West\"\n",
    "    length is the length of the ship.\n",
    "    \"\"\"\n",
    "    if direction == \"North\":\n",
    "        return [(i,j-c) for c in range(length)]\n",
    "    elif direction == \"East\":\n",
    "        return [(i+c,j) for c in range(length)]\n",
    "    elif direction == \"South\":\n",
    "        return [(i,j+c) for c in range(length)]\n",
    "    elif direction == \"West\":\n",
    "        return [(i-c,j) for c in range(length)]"
   ]
  },
  {
   "cell_type": "code",
   "execution_count": 5,
   "metadata": {
    "collapsed": false
   },
   "outputs": [],
   "source": [
    "class GameState:\n",
    "    \"\"\"\n",
    "    players:  \n",
    "    0 = player0\n",
    "    1 = player1\n",
    "    \n",
    "    peg colors: \n",
    "    \"R\" = Red   (HIT)\n",
    "    \"W\" = White (MISS)\n",
    "    \"E\" = Empty\n",
    "    \n",
    "    \n",
    "    errors: \n",
    "    \"NoError\"           = everything went OK\n",
    "    \"NotValidGridPoint\" = someone tried to shoot outside the grid or place a ship outside the grid\n",
    "    \"PegAlreadyPlaced\"  = someone tried to shoot at a location where they have already shot\n",
    "    \"ShipCollision\"     = someone tried to place one ship ontop of another\n",
    "    \n",
    "    \"\"\"\n",
    "    def __init__(self):\n",
    "        \"\"\"\n",
    "        self.shotsFired[i] is a directionary recording where player i shot and if they hit/missed an enemey ship\n",
    "        self.boats[i] is a dictionary recording boat locations for player i\n",
    "        self.activePlayer records whose turn it is\n",
    "        \"\"\"\n",
    "        self.shotsFired = {0 : blankGrid(gridDimensionX,gridDimensionY,\"E\"),\n",
    "                           1 : blankGrid(gridDimensionX,gridDimensionY,\"E\")}\n",
    "        self.boats = {0 : [], 1 : []}\n",
    "        self.error = \"NoError\"\n",
    "        self.activePlayer = 0\n",
    "        \n",
    "    def otherPlayer(self):\n",
    "        if self.activePlayer == 0:\n",
    "            return 1\n",
    "        else:\n",
    "            return 0\n",
    "    \n",
    "    def changePlayer(self):\n",
    "        self.activePlayer = self.otherPlayer()\n",
    "        return self.activePlayer\n",
    "\n",
    "    \n",
    "    \n",
    "    def attack(self,i,j):\n",
    "        \"\"\"\n",
    "        for an attack to be valid, it must be directed at a valid grid point with no peg.\n",
    "        \"\"\"\n",
    "        if not validGridPoint(i,j):\n",
    "            self.error = \"NotValidGridPoint\"\n",
    "            return self.error\n",
    "        elif self.shotsFired[self.activePlayer][(i,j)] != \"E\":\n",
    "            self.error = \"PegAlreadyPlaced\"\n",
    "            return self.error\n",
    "        elif (i,j) in self.boats[self.otherPlayer()]:\n",
    "            self.shotsFired[self.activePlayer][(i,j)] = \"R\"\n",
    "            self.error = \"NoError\"\n",
    "            return self.error\n",
    "        else:\n",
    "            self.shotsFired[self.activePlayer][(i,j)] = \"W\"\n",
    "            self.error = \"NoError\"\n",
    "            return self.error\n",
    "    \n",
    "    \n",
    "    \n",
    "    def addShip(self,i,j,direction,length):\n",
    "        \"\"\"\n",
    "        inorder to add a ship, it must be contained inside the grid and not intersect any other ships\n",
    "        \"\"\"\n",
    "        ship = computeShipCoordinates(i,j,direction,length)\n",
    "        for point in ship:\n",
    "            if point in self.boats[self.activePlayer]:\n",
    "                self.error = \"ShipCollision\"\n",
    "                return self.error\n",
    "            elif not validGridPoint(point[0],point[1]):\n",
    "                self.error = \"NotValidGridPoint\"\n",
    "                return self.error\n",
    "        self.boats[self.activePlayer] = self.boats[self.activePlayer] + ship\n",
    "        self.error = \"NoError\"\n",
    "        return self.error\n",
    "    \n",
    "    \n",
    "    def addRandomShip(self,length):\n",
    "        \"\"\"\n",
    "        to add a random ship of a given length, we keep trying to add ships until one sticks\n",
    "        \"\"\"\n",
    "        status = \"NothingYet\"\n",
    "        while status != \"NoError\":\n",
    "            i = random.choice(range(gridDimensionX))\n",
    "            j = random.choice(range(gridDimensionY))\n",
    "            direction = random.choice([\"North\", \"South\", \"East\" or \"West\"])\n",
    "            status = self.addShip(i,j,direction,length)\n",
    "        return self.error\n",
    "    \n",
    "    def activePlayerWin(self):\n",
    "        for point in self.boats[self.activePlayer]:\n",
    "            if self.shotsFired[self.activePlayer][point] != \"R\":\n",
    "                return False\n",
    "        return True"
   ]
  },
  {
   "cell_type": "code",
   "execution_count": 6,
   "metadata": {
    "collapsed": false
   },
   "outputs": [],
   "source": [
    "shipLengths = {\"Submarine\" : 3, \"Cruiser\" : 2, \"Patrol\" : 1}\n",
    "\n",
    "def newgame():\n",
    "    \"\"\"\n",
    "    create a new GameState with boats placed at random from shipLengths\n",
    "    \"\"\"\n",
    "    gameState = GameState()\n",
    "    for ship in shipLengths:\n",
    "        gameState.addRandomShip(shipLengths[ship])\n",
    "    \n",
    "    \n",
    "    gameState.changePlayer()\n",
    "       \n",
    "    for ship in shipLengths:\n",
    "        gameState.addRandomShip(shipLengths[ship])\n",
    "    \n",
    "    \n",
    "    gameState.changePlayer()\n",
    "    return gameState"
   ]
  },
  {
   "cell_type": "markdown",
   "metadata": {},
   "source": [
    "# Example Usage"
   ]
  },
  {
   "cell_type": "code",
   "execution_count": 7,
   "metadata": {
    "collapsed": true
   },
   "outputs": [],
   "source": [
    "test = newgame()"
   ]
  },
  {
   "cell_type": "code",
   "execution_count": 8,
   "metadata": {
    "collapsed": false
   },
   "outputs": [
    {
     "name": "stdout",
     "output_type": "stream",
     "text": [
      "0\n",
      "[(0, 3), (2, 0), (2, 1), (2, 2), (2, 3), (3, 3)]\n",
      "[(1, 0), (2, 0), (2, 1), (2, 2), (0, 1), (0, 2)]\n"
     ]
    }
   ],
   "source": [
    "print(  test.activePlayer  )\n",
    "print(  test.boats[0]  )\n",
    "print(  test.boats[1]  )"
   ]
  },
  {
   "cell_type": "code",
   "execution_count": 9,
   "metadata": {
    "collapsed": false
   },
   "outputs": [
    {
     "name": "stdout",
     "output_type": "stream",
     "text": [
      "NoError\n",
      "NoError\n",
      "PegAlreadyPlaced\n"
     ]
    }
   ],
   "source": [
    "print(  test.attack(2,1)  )\n",
    "print(  test.attack(2,2)  )\n",
    "print(  test.attack(2,2)  )"
   ]
  },
  {
   "cell_type": "code",
   "execution_count": 10,
   "metadata": {
    "collapsed": false
   },
   "outputs": [
    {
     "data": {
      "text/plain": [
       "{(0, 0): 'E',\n",
       " (0, 1): 'E',\n",
       " (0, 2): 'E',\n",
       " (0, 3): 'E',\n",
       " (1, 0): 'E',\n",
       " (1, 1): 'E',\n",
       " (1, 2): 'E',\n",
       " (1, 3): 'E',\n",
       " (2, 0): 'E',\n",
       " (2, 1): 'R',\n",
       " (2, 2): 'R',\n",
       " (2, 3): 'E',\n",
       " (3, 0): 'E',\n",
       " (3, 1): 'E',\n",
       " (3, 2): 'E',\n",
       " (3, 3): 'E'}"
      ]
     },
     "execution_count": 10,
     "metadata": {},
     "output_type": "execute_result"
    }
   ],
   "source": [
    "test.shotsFired[0]"
   ]
  },
  {
   "cell_type": "code",
   "execution_count": 11,
   "metadata": {
    "collapsed": false
   },
   "outputs": [
    {
     "data": {
      "text/plain": [
       "1"
      ]
     },
     "execution_count": 11,
     "metadata": {},
     "output_type": "execute_result"
    }
   ],
   "source": [
    "test.changePlayer()"
   ]
  },
  {
   "cell_type": "code",
   "execution_count": 12,
   "metadata": {
    "collapsed": false
   },
   "outputs": [
    {
     "name": "stdout",
     "output_type": "stream",
     "text": [
      "NoError\n",
      "NoError\n",
      "NoError\n"
     ]
    }
   ],
   "source": [
    "print(  test.attack(0,0)  )\n",
    "print(  test.attack(0,1)  )\n",
    "print(  test.attack(2,2)  )"
   ]
  },
  {
   "cell_type": "code",
   "execution_count": 13,
   "metadata": {
    "collapsed": false
   },
   "outputs": [
    {
     "data": {
      "text/plain": [
       "{(0, 0): 'W',\n",
       " (0, 1): 'W',\n",
       " (0, 2): 'E',\n",
       " (0, 3): 'E',\n",
       " (1, 0): 'E',\n",
       " (1, 1): 'E',\n",
       " (1, 2): 'E',\n",
       " (1, 3): 'E',\n",
       " (2, 0): 'E',\n",
       " (2, 1): 'E',\n",
       " (2, 2): 'R',\n",
       " (2, 3): 'E',\n",
       " (3, 0): 'E',\n",
       " (3, 1): 'E',\n",
       " (3, 2): 'E',\n",
       " (3, 3): 'E'}"
      ]
     },
     "execution_count": 13,
     "metadata": {},
     "output_type": "execute_result"
    }
   ],
   "source": [
    "test.shotsFired[1]"
   ]
  },
  {
   "cell_type": "code",
   "execution_count": 14,
   "metadata": {
    "collapsed": false
   },
   "outputs": [
    {
     "name": "stdout",
     "output_type": "stream",
     "text": [
      "1\n"
     ]
    }
   ],
   "source": [
    "print(  test.activePlayer  )"
   ]
  }
 ],
 "metadata": {
  "kernelspec": {
   "display_name": "Python 3",
   "language": "python",
   "name": "python3"
  },
  "language_info": {
   "codemirror_mode": {
    "name": "ipython",
    "version": 3
   },
   "file_extension": ".py",
   "mimetype": "text/x-python",
   "name": "python",
   "nbconvert_exporter": "python",
   "pygments_lexer": "ipython3",
   "version": "3.5.2"
  }
 },
 "nbformat": 4,
 "nbformat_minor": 0
}
